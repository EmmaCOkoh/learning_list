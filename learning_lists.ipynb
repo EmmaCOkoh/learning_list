{
 "cells": [
  {
   "cell_type": "markdown",
   "id": "d386355d-32c9-4647-a5ed-d4613d6a25fb",
   "metadata": {},
   "source": [
    "### Practice 1: Create a List of Names"
   ]
  },
  {
   "cell_type": "code",
   "execution_count": 1,
   "id": "7e850baa-1f48-4fdb-9778-b7de7ac183e1",
   "metadata": {},
   "outputs": [
    {
     "name": "stdout",
     "output_type": "stream",
     "text": [
      "['Emmanuel', 'Chuks', 'Okoh', 'Oiza']\n"
     ]
    }
   ],
   "source": [
    "names = [\"Emmanuel\", \"Chuks\", \"Okoh\", \"Oiza\"]\n",
    "\n",
    "print(names)"
   ]
  },
  {
   "cell_type": "markdown",
   "id": "2b883a1d-75f5-45dd-8436-83be98657a20",
   "metadata": {},
   "source": [
    "### Practice 2: Get On Item from a List (Indexing)"
   ]
  },
  {
   "cell_type": "code",
   "execution_count": 2,
   "id": "69d9c14c-f699-4079-8e87-db14e9d38085",
   "metadata": {},
   "outputs": [
    {
     "name": "stdout",
     "output_type": "stream",
     "text": [
      "Emmanuel\n"
     ]
    }
   ],
   "source": [
    "print(names[0])"
   ]
  },
  {
   "cell_type": "markdown",
   "id": "95bb2ce0-e662-49bc-b7e8-0d26041c3ff6",
   "metadata": {},
   "source": [
    "### Practice 3: Add to a List "
   ]
  },
  {
   "cell_type": "code",
   "execution_count": 3,
   "id": "6f29b65c-13d9-4ced-bf2a-2ab0014515db",
   "metadata": {},
   "outputs": [
    {
     "name": "stdout",
     "output_type": "stream",
     "text": [
      "['Emmanuel', 'Chuks', 'Okoh', 'Oiza', 'Zara']\n"
     ]
    }
   ],
   "source": [
    "names.append(\"Zara\")\n",
    "print(names)"
   ]
  },
  {
   "cell_type": "markdown",
   "id": "d8028762-27cd-47f2-8177-712c544d410f",
   "metadata": {},
   "source": [
    "### Practice 4: Remove an Item from a List"
   ]
  },
  {
   "cell_type": "code",
   "execution_count": 4,
   "id": "57a78821-8323-40f5-a237-059ff12f5188",
   "metadata": {},
   "outputs": [
    {
     "name": "stdout",
     "output_type": "stream",
     "text": [
      "['Emmanuel', 'Okoh', 'Oiza', 'Zara']\n"
     ]
    }
   ],
   "source": [
    "names.remove(\"Chuks\")\n",
    "print(names)"
   ]
  },
  {
   "cell_type": "markdown",
   "id": "732168fd-5941-446d-b41d-d2892c001cf5",
   "metadata": {},
   "source": [
    "### Practice 5: Loop Through a List (Say Hi to Everyone)"
   ]
  },
  {
   "cell_type": "code",
   "execution_count": 5,
   "id": "4598fd7b-12fa-43c6-9f62-c098337e6556",
   "metadata": {},
   "outputs": [
    {
     "name": "stdout",
     "output_type": "stream",
     "text": [
      "Hi, Emmanuel\n",
      "Hi, Okoh\n",
      "Hi, Oiza\n",
      "Hi, Zara\n"
     ]
    }
   ],
   "source": [
    "for name in names:\n",
    "    print(f\"Hi, {name}\")"
   ]
  },
  {
   "cell_type": "markdown",
   "id": "388ec153-dea0-45c1-bab0-19e00a6d0a91",
   "metadata": {},
   "source": [
    "### Practice 6: List of Numbers - Do Math with Each"
   ]
  },
  {
   "cell_type": "code",
   "execution_count": 6,
   "id": "00823e31-dfcc-4bbc-b5ba-1c15178385e9",
   "metadata": {},
   "outputs": [
    {
     "name": "stdout",
     "output_type": "stream",
     "text": [
      "2\n",
      "4\n",
      "6\n",
      "8\n",
      "10\n",
      "12\n"
     ]
    }
   ],
   "source": [
    "numbers = [1, 2, 3, 4, 5, 6]\n",
    "\n",
    "for num in numbers:\n",
    "    print(num * 2)\n"
   ]
  },
  {
   "cell_type": "markdown",
   "id": "8a8974b0-fe3e-4ad6-aa61-ab785b87a953",
   "metadata": {},
   "source": [
    "### Portfolio Project: To-Do List App (Simple)"
   ]
  },
  {
   "cell_type": "code",
   "execution_count": 7,
   "id": "c9471d93-d974-4f2c-affb-1c9face01523",
   "metadata": {},
   "outputs": [
    {
     "name": "stdout",
     "output_type": "stream",
     "text": [
      "Starting To-Do List:\n",
      "['Do laundry', 'Study Python', 'Go for a walk']\n"
     ]
    }
   ],
   "source": [
    "tasks = [\"Do laundry\", \"Study Python\", \"Go for a walk\"]\n",
    "\n",
    "print(\"Starting To-Do List:\")\n",
    "print(tasks)"
   ]
  },
  {
   "cell_type": "code",
   "execution_count": 8,
   "id": "729f08d7-0286-4333-bd4d-72e90d36a38a",
   "metadata": {},
   "outputs": [
    {
     "name": "stdout",
     "output_type": "stream",
     "text": [
      "['Do laundry', 'Study Python', 'Go for a walk', 'Call Mom']\n"
     ]
    }
   ],
   "source": [
    "## Add a new task\n",
    "tasks.append(\"Call Mom\")\n",
    "print(tasks)"
   ]
  },
  {
   "cell_type": "code",
   "execution_count": 9,
   "id": "90b63f9d-4034-4c00-bb7a-4be2c4cd43d4",
   "metadata": {},
   "outputs": [
    {
     "name": "stdout",
     "output_type": "stream",
     "text": [
      "['Study Python', 'Go for a walk', 'Call Mom']\n"
     ]
    }
   ],
   "source": [
    "## Remove one task \n",
    "tasks.remove(\"Do laundry\")\n",
    "print(tasks)"
   ]
  },
  {
   "cell_type": "code",
   "execution_count": 10,
   "id": "79fe4dc9-310a-40e7-b60e-464f9c96dbb1",
   "metadata": {},
   "outputs": [
    {
     "name": "stdout",
     "output_type": "stream",
     "text": [
      "This is the tasks left to do:\n",
      "- ['Study Python', 'Go for a walk', 'Call Mom']\n",
      "- ['Study Python', 'Go for a walk', 'Call Mom']\n",
      "- ['Study Python', 'Go for a walk', 'Call Mom']\n"
     ]
    }
   ],
   "source": [
    "## Final list\n",
    "print(\"This is the tasks left to do:\")\n",
    "for task in tasks:\n",
    "    print(f\"- {tasks}\")"
   ]
  },
  {
   "cell_type": "code",
   "execution_count": null,
   "id": "3edc0996-c551-4bbc-b608-178924c44085",
   "metadata": {},
   "outputs": [],
   "source": []
  }
 ],
 "metadata": {
  "kernelspec": {
   "display_name": "Python 3 (ipykernel)",
   "language": "python",
   "name": "python3"
  },
  "language_info": {
   "codemirror_mode": {
    "name": "ipython",
    "version": 3
   },
   "file_extension": ".py",
   "mimetype": "text/x-python",
   "name": "python",
   "nbconvert_exporter": "python",
   "pygments_lexer": "ipython3",
   "version": "3.12.3"
  }
 },
 "nbformat": 4,
 "nbformat_minor": 5
}
